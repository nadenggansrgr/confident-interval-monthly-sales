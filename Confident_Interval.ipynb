{
  "nbformat": 4,
  "nbformat_minor": 0,
  "metadata": {
    "colab": {
      "provenance": []
    },
    "kernelspec": {
      "name": "python3",
      "display_name": "Python 3"
    },
    "language_info": {
      "name": "python"
    }
  },
  "cells": [
    {
      "cell_type": "code",
      "execution_count": null,
      "metadata": {
        "id": "cQFhQz-5jcpe"
      },
      "outputs": [],
      "source": [
        "# Install the Kaggle CLI (Command Line Interface) utility\n",
        "!pip install -q kaggle"
      ]
    },
    {
      "cell_type": "code",
      "source": [
        "# Create a new directory named .kaggle\n",
        "!mkdir ~/.kaggle"
      ],
      "metadata": {
        "id": "aU04pRYkju-v"
      },
      "execution_count": null,
      "outputs": []
    },
    {
      "cell_type": "code",
      "source": [
        "# Copy file kaggle.json to the .kaggle directory\n",
        "!cp kaggle.json ~/.kaggle"
      ],
      "metadata": {
        "id": "7RKdGcxOjzYm"
      },
      "execution_count": 25,
      "outputs": []
    },
    {
      "cell_type": "code",
      "source": [
        "# Sets the permissions of the kaggle.json file to be read and write only for the owner\n",
        "!chmod 600 ~/.kaggle/kaggle.json"
      ],
      "metadata": {
        "id": "64HOb4nRj8Tv"
      },
      "execution_count": null,
      "outputs": []
    },
    {
      "cell_type": "code",
      "source": [
        "# Using the Kaggle CLI to download a dataset from Kaggle.\n",
        "!kaggle datasets download -d 'justlearn47/penjualan-mobil-toyota-di-indonesia'"
      ],
      "metadata": {
        "colab": {
          "base_uri": "https://localhost:8080/"
        },
        "id": "9RFf5Adukga1",
        "outputId": "adacc44d-927f-48a2-f500-057e38fa500f"
      },
      "execution_count": 7,
      "outputs": [
        {
          "output_type": "stream",
          "name": "stdout",
          "text": [
            "Downloading penjualan-mobil-toyota-di-indonesia.zip to /content\n",
            "\r  0% 0.00/973 [00:00<?, ?B/s]\n",
            "\r100% 973/973 [00:00<00:00, 2.13MB/s]\n"
          ]
        }
      ]
    },
    {
      "cell_type": "code",
      "source": [
        "import zipfile"
      ],
      "metadata": {
        "id": "hmTQZX5elOGA"
      },
      "execution_count": null,
      "outputs": []
    },
    {
      "cell_type": "code",
      "source": [
        "# Extract zipfile\n",
        "dataset_zip=zipfile.ZipFile('penjualan-mobil-toyota-di-indonesia.zip','r')\n",
        "dataset_zip.extractall()\n",
        "dataset_zip.close()"
      ],
      "metadata": {
        "id": "sSlh3DjrlQ-w"
      },
      "execution_count": 13,
      "outputs": []
    },
    {
      "cell_type": "markdown",
      "source": [
        "The code provided serves as an illustration for calculating the **Confidence Interval with a Known Standard Deviation**. I am utilizing the ['penjualan-mobil-toyota-di-indonesia'\n",
        "](https://www.kaggle.com/datasets/justlearn47/penjualan-mobil-toyota-di-indonesia) dataset obtained from Kaggle. This dataset encompasses the monthly sales data of automobiles from 2011 to 2023, totaling 150 data points. For this analysis, I will draw a sample consisting of 100 data points and 95% confidence interval."
      ],
      "metadata": {
        "id": "SDMZaHBpN5Gp"
      }
    },
    {
      "cell_type": "code",
      "source": [
        "import pandas as pd\n",
        "import os\n",
        "import numpy as np\n",
        "from scipy import stats"
      ],
      "metadata": {
        "id": "qnN6x56BnZOr"
      },
      "execution_count": 53,
      "outputs": []
    },
    {
      "cell_type": "code",
      "source": [
        "# Read a CSV file named \"penjualan_mobil_toyota.csv\" and\n",
        "# display the first 10 rows of the data\n",
        "path = \"penjualan_mobil_toyota.csv\"\n",
        "adv = pd.read_csv(path)\n",
        "adv.head(10)"
      ],
      "metadata": {
        "colab": {
          "base_uri": "https://localhost:8080/",
          "height": 363
        },
        "id": "lwMT2ao8mC7p",
        "outputId": "ec9891f8-802b-446c-d00b-961ce11e0506"
      },
      "execution_count": 42,
      "outputs": [
        {
          "output_type": "execute_result",
          "data": {
            "text/plain": [
              "     Bulan  Penjualan\n",
              "0  2011-01      27619\n",
              "1  2011-02      25532\n",
              "2  2011-03      32275\n",
              "3  2011-04      21128\n",
              "4  2011-05      19554\n",
              "5  2011-06      26175\n",
              "6  2011-07      30149\n",
              "7  2011-08      25207\n",
              "8  2011-09      30655\n",
              "9  2011-10      31109"
            ],
            "text/html": [
              "\n",
              "  <div id=\"df-93d04d64-f127-4fa3-b7b2-389ac0039d18\" class=\"colab-df-container\">\n",
              "    <div>\n",
              "<style scoped>\n",
              "    .dataframe tbody tr th:only-of-type {\n",
              "        vertical-align: middle;\n",
              "    }\n",
              "\n",
              "    .dataframe tbody tr th {\n",
              "        vertical-align: top;\n",
              "    }\n",
              "\n",
              "    .dataframe thead th {\n",
              "        text-align: right;\n",
              "    }\n",
              "</style>\n",
              "<table border=\"1\" class=\"dataframe\">\n",
              "  <thead>\n",
              "    <tr style=\"text-align: right;\">\n",
              "      <th></th>\n",
              "      <th>Bulan</th>\n",
              "      <th>Penjualan</th>\n",
              "    </tr>\n",
              "  </thead>\n",
              "  <tbody>\n",
              "    <tr>\n",
              "      <th>0</th>\n",
              "      <td>2011-01</td>\n",
              "      <td>27619</td>\n",
              "    </tr>\n",
              "    <tr>\n",
              "      <th>1</th>\n",
              "      <td>2011-02</td>\n",
              "      <td>25532</td>\n",
              "    </tr>\n",
              "    <tr>\n",
              "      <th>2</th>\n",
              "      <td>2011-03</td>\n",
              "      <td>32275</td>\n",
              "    </tr>\n",
              "    <tr>\n",
              "      <th>3</th>\n",
              "      <td>2011-04</td>\n",
              "      <td>21128</td>\n",
              "    </tr>\n",
              "    <tr>\n",
              "      <th>4</th>\n",
              "      <td>2011-05</td>\n",
              "      <td>19554</td>\n",
              "    </tr>\n",
              "    <tr>\n",
              "      <th>5</th>\n",
              "      <td>2011-06</td>\n",
              "      <td>26175</td>\n",
              "    </tr>\n",
              "    <tr>\n",
              "      <th>6</th>\n",
              "      <td>2011-07</td>\n",
              "      <td>30149</td>\n",
              "    </tr>\n",
              "    <tr>\n",
              "      <th>7</th>\n",
              "      <td>2011-08</td>\n",
              "      <td>25207</td>\n",
              "    </tr>\n",
              "    <tr>\n",
              "      <th>8</th>\n",
              "      <td>2011-09</td>\n",
              "      <td>30655</td>\n",
              "    </tr>\n",
              "    <tr>\n",
              "      <th>9</th>\n",
              "      <td>2011-10</td>\n",
              "      <td>31109</td>\n",
              "    </tr>\n",
              "  </tbody>\n",
              "</table>\n",
              "</div>\n",
              "    <div class=\"colab-df-buttons\">\n",
              "\n",
              "  <div class=\"colab-df-container\">\n",
              "    <button class=\"colab-df-convert\" onclick=\"convertToInteractive('df-93d04d64-f127-4fa3-b7b2-389ac0039d18')\"\n",
              "            title=\"Convert this dataframe to an interactive table.\"\n",
              "            style=\"display:none;\">\n",
              "\n",
              "  <svg xmlns=\"http://www.w3.org/2000/svg\" height=\"24px\" viewBox=\"0 -960 960 960\">\n",
              "    <path d=\"M120-120v-720h720v720H120Zm60-500h600v-160H180v160Zm220 220h160v-160H400v160Zm0 220h160v-160H400v160ZM180-400h160v-160H180v160Zm440 0h160v-160H620v160ZM180-180h160v-160H180v160Zm440 0h160v-160H620v160Z\"/>\n",
              "  </svg>\n",
              "    </button>\n",
              "\n",
              "  <style>\n",
              "    .colab-df-container {\n",
              "      display:flex;\n",
              "      gap: 12px;\n",
              "    }\n",
              "\n",
              "    .colab-df-convert {\n",
              "      background-color: #E8F0FE;\n",
              "      border: none;\n",
              "      border-radius: 50%;\n",
              "      cursor: pointer;\n",
              "      display: none;\n",
              "      fill: #1967D2;\n",
              "      height: 32px;\n",
              "      padding: 0 0 0 0;\n",
              "      width: 32px;\n",
              "    }\n",
              "\n",
              "    .colab-df-convert:hover {\n",
              "      background-color: #E2EBFA;\n",
              "      box-shadow: 0px 1px 2px rgba(60, 64, 67, 0.3), 0px 1px 3px 1px rgba(60, 64, 67, 0.15);\n",
              "      fill: #174EA6;\n",
              "    }\n",
              "\n",
              "    .colab-df-buttons div {\n",
              "      margin-bottom: 4px;\n",
              "    }\n",
              "\n",
              "    [theme=dark] .colab-df-convert {\n",
              "      background-color: #3B4455;\n",
              "      fill: #D2E3FC;\n",
              "    }\n",
              "\n",
              "    [theme=dark] .colab-df-convert:hover {\n",
              "      background-color: #434B5C;\n",
              "      box-shadow: 0px 1px 3px 1px rgba(0, 0, 0, 0.15);\n",
              "      filter: drop-shadow(0px 1px 2px rgba(0, 0, 0, 0.3));\n",
              "      fill: #FFFFFF;\n",
              "    }\n",
              "  </style>\n",
              "\n",
              "    <script>\n",
              "      const buttonEl =\n",
              "        document.querySelector('#df-93d04d64-f127-4fa3-b7b2-389ac0039d18 button.colab-df-convert');\n",
              "      buttonEl.style.display =\n",
              "        google.colab.kernel.accessAllowed ? 'block' : 'none';\n",
              "\n",
              "      async function convertToInteractive(key) {\n",
              "        const element = document.querySelector('#df-93d04d64-f127-4fa3-b7b2-389ac0039d18');\n",
              "        const dataTable =\n",
              "          await google.colab.kernel.invokeFunction('convertToInteractive',\n",
              "                                                    [key], {});\n",
              "        if (!dataTable) return;\n",
              "\n",
              "        const docLinkHtml = 'Like what you see? Visit the ' +\n",
              "          '<a target=\"_blank\" href=https://colab.research.google.com/notebooks/data_table.ipynb>data table notebook</a>'\n",
              "          + ' to learn more about interactive tables.';\n",
              "        element.innerHTML = '';\n",
              "        dataTable['output_type'] = 'display_data';\n",
              "        await google.colab.output.renderOutput(dataTable, element);\n",
              "        const docLink = document.createElement('div');\n",
              "        docLink.innerHTML = docLinkHtml;\n",
              "        element.appendChild(docLink);\n",
              "      }\n",
              "    </script>\n",
              "  </div>\n",
              "\n",
              "\n",
              "<div id=\"df-aa5a99f8-3d91-4e14-ba9c-a4c7142156bf\">\n",
              "  <button class=\"colab-df-quickchart\" onclick=\"quickchart('df-aa5a99f8-3d91-4e14-ba9c-a4c7142156bf')\"\n",
              "            title=\"Suggest charts.\"\n",
              "            style=\"display:none;\">\n",
              "\n",
              "<svg xmlns=\"http://www.w3.org/2000/svg\" height=\"24px\"viewBox=\"0 0 24 24\"\n",
              "     width=\"24px\">\n",
              "    <g>\n",
              "        <path d=\"M19 3H5c-1.1 0-2 .9-2 2v14c0 1.1.9 2 2 2h14c1.1 0 2-.9 2-2V5c0-1.1-.9-2-2-2zM9 17H7v-7h2v7zm4 0h-2V7h2v10zm4 0h-2v-4h2v4z\"/>\n",
              "    </g>\n",
              "</svg>\n",
              "  </button>\n",
              "\n",
              "<style>\n",
              "  .colab-df-quickchart {\n",
              "      --bg-color: #E8F0FE;\n",
              "      --fill-color: #1967D2;\n",
              "      --hover-bg-color: #E2EBFA;\n",
              "      --hover-fill-color: #174EA6;\n",
              "      --disabled-fill-color: #AAA;\n",
              "      --disabled-bg-color: #DDD;\n",
              "  }\n",
              "\n",
              "  [theme=dark] .colab-df-quickchart {\n",
              "      --bg-color: #3B4455;\n",
              "      --fill-color: #D2E3FC;\n",
              "      --hover-bg-color: #434B5C;\n",
              "      --hover-fill-color: #FFFFFF;\n",
              "      --disabled-bg-color: #3B4455;\n",
              "      --disabled-fill-color: #666;\n",
              "  }\n",
              "\n",
              "  .colab-df-quickchart {\n",
              "    background-color: var(--bg-color);\n",
              "    border: none;\n",
              "    border-radius: 50%;\n",
              "    cursor: pointer;\n",
              "    display: none;\n",
              "    fill: var(--fill-color);\n",
              "    height: 32px;\n",
              "    padding: 0;\n",
              "    width: 32px;\n",
              "  }\n",
              "\n",
              "  .colab-df-quickchart:hover {\n",
              "    background-color: var(--hover-bg-color);\n",
              "    box-shadow: 0 1px 2px rgba(60, 64, 67, 0.3), 0 1px 3px 1px rgba(60, 64, 67, 0.15);\n",
              "    fill: var(--button-hover-fill-color);\n",
              "  }\n",
              "\n",
              "  .colab-df-quickchart-complete:disabled,\n",
              "  .colab-df-quickchart-complete:disabled:hover {\n",
              "    background-color: var(--disabled-bg-color);\n",
              "    fill: var(--disabled-fill-color);\n",
              "    box-shadow: none;\n",
              "  }\n",
              "\n",
              "  .colab-df-spinner {\n",
              "    border: 2px solid var(--fill-color);\n",
              "    border-color: transparent;\n",
              "    border-bottom-color: var(--fill-color);\n",
              "    animation:\n",
              "      spin 1s steps(1) infinite;\n",
              "  }\n",
              "\n",
              "  @keyframes spin {\n",
              "    0% {\n",
              "      border-color: transparent;\n",
              "      border-bottom-color: var(--fill-color);\n",
              "      border-left-color: var(--fill-color);\n",
              "    }\n",
              "    20% {\n",
              "      border-color: transparent;\n",
              "      border-left-color: var(--fill-color);\n",
              "      border-top-color: var(--fill-color);\n",
              "    }\n",
              "    30% {\n",
              "      border-color: transparent;\n",
              "      border-left-color: var(--fill-color);\n",
              "      border-top-color: var(--fill-color);\n",
              "      border-right-color: var(--fill-color);\n",
              "    }\n",
              "    40% {\n",
              "      border-color: transparent;\n",
              "      border-right-color: var(--fill-color);\n",
              "      border-top-color: var(--fill-color);\n",
              "    }\n",
              "    60% {\n",
              "      border-color: transparent;\n",
              "      border-right-color: var(--fill-color);\n",
              "    }\n",
              "    80% {\n",
              "      border-color: transparent;\n",
              "      border-right-color: var(--fill-color);\n",
              "      border-bottom-color: var(--fill-color);\n",
              "    }\n",
              "    90% {\n",
              "      border-color: transparent;\n",
              "      border-bottom-color: var(--fill-color);\n",
              "    }\n",
              "  }\n",
              "</style>\n",
              "\n",
              "  <script>\n",
              "    async function quickchart(key) {\n",
              "      const quickchartButtonEl =\n",
              "        document.querySelector('#' + key + ' button');\n",
              "      quickchartButtonEl.disabled = true;  // To prevent multiple clicks.\n",
              "      quickchartButtonEl.classList.add('colab-df-spinner');\n",
              "      try {\n",
              "        const charts = await google.colab.kernel.invokeFunction(\n",
              "            'suggestCharts', [key], {});\n",
              "      } catch (error) {\n",
              "        console.error('Error during call to suggestCharts:', error);\n",
              "      }\n",
              "      quickchartButtonEl.classList.remove('colab-df-spinner');\n",
              "      quickchartButtonEl.classList.add('colab-df-quickchart-complete');\n",
              "    }\n",
              "    (() => {\n",
              "      let quickchartButtonEl =\n",
              "        document.querySelector('#df-aa5a99f8-3d91-4e14-ba9c-a4c7142156bf button');\n",
              "      quickchartButtonEl.style.display =\n",
              "        google.colab.kernel.accessAllowed ? 'block' : 'none';\n",
              "    })();\n",
              "  </script>\n",
              "</div>\n",
              "    </div>\n",
              "  </div>\n"
            ]
          },
          "metadata": {},
          "execution_count": 42
        }
      ]
    },
    {
      "cell_type": "code",
      "source": [
        "kolom_penjualan = adv['Penjualan']\n",
        "\n",
        "# Computing the mean and standard deviation of the whole population\n",
        "rata_rata_penjualan = np.mean(kolom_penjualan)\n",
        "standar_deviasi_penjualan = np.std(kolom_penjualan)\n",
        "\n",
        "print(\"Rata-rata penjualan:\", rata_rata_penjualan)\n",
        "print(\"Standar deviasi penjualan:\", standar_deviasi_penjualan)"
      ],
      "metadata": {
        "colab": {
          "base_uri": "https://localhost:8080/"
        },
        "id": "Va-ZZjocqild",
        "outputId": "32414daf-7f4d-4ac3-9322-c6c73cd3e094"
      },
      "execution_count": 41,
      "outputs": [
        {
          "output_type": "stream",
          "name": "stdout",
          "text": [
            "Rata-rata penjualan: 28402.845637583894\n",
            "Standar deviasi penjualan: 7553.922511632133\n"
          ]
        }
      ]
    },
    {
      "cell_type": "code",
      "source": [
        "# Randomly selects 100 elements from the 'Penjualan' column\n",
        "sample_size=100\n",
        "sample_penjualan = np.random.choice(adv['Penjualan'], sample_size)\n",
        "print(\"Sampel acak dari kolom 'penjualan':\", sample_penjualan)\n",
        "\n",
        "# Computing the mean of the sample\n",
        "sample_mean=np.mean(sample_penjualan)\n",
        "print(\"Rata-rata sample:\", sample_mean)"
      ],
      "metadata": {
        "colab": {
          "base_uri": "https://localhost:8080/"
        },
        "id": "hNBB68v6s8tI",
        "outputId": "b6155688-f210-4fab-e336-83789568e512"
      },
      "execution_count": 57,
      "outputs": [
        {
          "output_type": "stream",
          "name": "stdout",
          "text": [
            "Sampel acak dari kolom 'penjualan': [29979 33306 33328 28757 29360 39210 25447 31981 35923 31440 29360 39210\n",
            "  2053 29362 16033 32377 36994 21730 30273 32707 31109 18642 16345 15144\n",
            " 23967 32707 24119 28835 32377 39246 28178 29408 31662 21763 29607 23301\n",
            " 31801 28757 18687 34819 38656 30149 26743 15195 19554 34427 31621 31981\n",
            " 21518 26175 24865  8673 38959 24718 18642 30053 24119 30273 39668 27779\n",
            " 26258 34690 33344 33328 23706 28970 25405 34737 21730 39668 31801 33449\n",
            " 36996 23223 31991 33344 21763 33344 30655 29362 28797 28970 28757 13150\n",
            " 24718 19554 24899  8673 40781 31991 31831 27779 35886 26175 31519 31621\n",
            " 28178 29408 26462 36353]\n",
            "Rata-rata sample: 28363.38\n"
          ]
        }
      ]
    },
    {
      "cell_type": "code",
      "source": [
        "# Assign the z_critical value\n",
        "z_critical = stats.norm.ppf(q=0.95)\n",
        "\n",
        "# Margin of Error\n",
        "moe = z_critical * (standar_deviasi_penjualan / np.sqrt(sample_size))\n",
        "\n",
        "# Confidence Interval\n",
        "confidence_interval = (sample_mean - moe, sample_mean + moe)\n",
        "\n",
        "print(\"Confidence Interval:\")\n",
        "print(confidence_interval)"
      ],
      "metadata": {
        "colab": {
          "base_uri": "https://localhost:8080/"
        },
        "id": "DRMVILT_v9NQ",
        "outputId": "5bf36d6d-f1c8-44ef-9a89-b1cd22f49710"
      },
      "execution_count": 58,
      "outputs": [
        {
          "output_type": "stream",
          "name": "stdout",
          "text": [
            "Confidence Interval:\n",
            "(27120.87031590315, 29605.889684096852)\n"
          ]
        }
      ]
    },
    {
      "cell_type": "code",
      "source": [
        "intervals = []\n",
        "sample_means = []\n",
        "\n",
        "for sample in range(20):\n",
        "   # Get a sample of the data with replacement\n",
        "   sample = np.random.choice(kolom_penjualan , sample_size)\n",
        "\n",
        "   # Save the mean of the sample\n",
        "   sample_means.append(np.mean(sample))\n",
        "\n",
        "   # Assign the z-critical value\n",
        "   z_critical = stats.norm.ppf(q=0.95)\n",
        "\n",
        "   # Margin of Error\n",
        "   moe = z_critical * (standar_deviasi_penjualan / np.sqrt(sample_size))\n",
        "\n",
        "   # Confidence Interval\n",
        "   confidence_interval = (sample_mean - moe, sample_mean + moe)\n",
        "\n",
        "   # Adding a new confidence interval to the list of intervals\n",
        "   intervals.append(confidence_interval)"
      ],
      "metadata": {
        "id": "BfqbcEaPxsrD"
      },
      "execution_count": 60,
      "outputs": []
    },
    {
      "cell_type": "code",
      "source": [
        "import matplotlib.pyplot as plt\n",
        "\n",
        "# Data for plotting\n",
        "sample_numbers = range(1, 21)  # Sample number (1-20)\n",
        "lower_bounds = [interval[0] for interval in intervals]\n",
        "upper_bounds = [interval[1] for interval in intervals]\n",
        "\n",
        "# Computing population mean\n",
        "population_mean = np.mean(kolom_penjualan)\n",
        "\n",
        "# Plot confident interval and population mean\n",
        "plt.figure(figsize=(10, 6))\n",
        "plt.errorbar(sample_numbers, sample_means, yerr=[(u - l) / 2 for l, u in zip(lower_bounds, upper_bounds)],\n",
        "             fmt='o', color='b', ecolor='r', capthick=2, label='Interval Kepercayaan')\n",
        "plt.axhline(y=population_mean, color='g', linestyle='--', label='Rata-rata Populasi')\n",
        "plt.xlabel('Nomor Sampel')\n",
        "plt.ylabel('Rata-rata Sampel')\n",
        "plt.title('Interval Kepercayaan 95% untuk Rata-rata Sampel')\n",
        "plt.xticks(sample_numbers)\n",
        "plt.legend()\n",
        "plt.grid(True)\n",
        "plt.show()\n"
      ],
      "metadata": {
        "colab": {
          "base_uri": "https://localhost:8080/",
          "height": 564
        },
        "id": "Tuqqipwny6rZ",
        "outputId": "14080358-b6fb-4ac6-ed03-c84e1f5e6a67"
      },
      "execution_count": 62,
      "outputs": [
        {
          "output_type": "display_data",
          "data": {
            "text/plain": [
              "<Figure size 1000x600 with 1 Axes>"
            ],
            "image/png": "[encoded data removed]"
          },
          "metadata": {}
        }
      ]
    },
    {
      "cell_type": "code",
      "source": [],
      "metadata": {
        "id": "VNaIiZWbyv7a"
      },
      "execution_count": null,
      "outputs": []
    }
  ]
}